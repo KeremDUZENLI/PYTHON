{
 "cells": [
  {
   "cell_type": "code",
   "execution_count": 12,
   "id": "34aabeae",
   "metadata": {},
   "outputs": [],
   "source": [
    "def corrigedata(contactStartedDate, contactFinishedDate):\n",
    "    import time\n",
    "    d1 = (time.strftime('%Y-%m-%d %H:%M:%S', time.localtime(contactStartedDate)))\n",
    "    d2 = (time.strftime('%Y-%m-%d %H:%M:%S', time.localtime(contactFinishedDate)))        \n",
    "    return d1, d2"
   ]
  },
  {
   "cell_type": "code",
   "execution_count": 13,
   "id": "ba82e142",
   "metadata": {},
   "outputs": [
    {
     "data": {
      "text/plain": [
       "('2012-09-13 03:22:50', '2012-09-13 03:22:55')"
      ]
     },
     "execution_count": 13,
     "metadata": {},
     "output_type": "execute_result"
    }
   ],
   "source": [
    "corrigedata(1347517370, 1347517375)"
   ]
  }
 ],
 "metadata": {
  "kernelspec": {
   "display_name": "Python 3 (ipykernel)",
   "language": "python",
   "name": "python3"
  },
  "language_info": {
   "codemirror_mode": {
    "name": "ipython",
    "version": 3
   },
   "file_extension": ".py",
   "mimetype": "text/x-python",
   "name": "python",
   "nbconvert_exporter": "python",
   "pygments_lexer": "ipython3",
   "version": "3.9.12"
  }
 },
 "nbformat": 4,
 "nbformat_minor": 5
}
