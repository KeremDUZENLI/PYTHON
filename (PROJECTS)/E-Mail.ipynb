{
 "cells": [
  {
   "cell_type": "markdown",
   "id": "455cb23c",
   "metadata": {},
   "source": [
    "# E-Mail"
   ]
  },
  {
   "cell_type": "code",
   "execution_count": 2,
   "id": "37e526ba",
   "metadata": {},
   "outputs": [
    {
     "name": "stdout",
     "output_type": "stream",
     "text": [
      "Type your password and press enter:60416041\n"
     ]
    }
   ],
   "source": [
    "import smtplib, ssl\n",
    "\n",
    "# port, smtp_server = Hangi mail sunucusu kullanılıyorsa (gmail, hotmail, yandex) bu değer google da bulunup değştirilecek\n",
    "port = 587\n",
    "smtp_server = \"smtp.gmail.com\"\n",
    "\n",
    "# sender_email = göndericinin mail adresi\n",
    "# receiver_email = alıcılar virgül işareti ile ayrılacak şekilde çoğaltılıp listeye eklenebilir\n",
    "# password = göndericinin mail şifresi, bu kısım kod çalıştırılınca çıkan input ekranında girilecek\n",
    "sender_email = \"anafen6041@gmail.com\"\n",
    "receiver_email = \"ghdznl09@gmail.com\"\n",
    "password = input(\"Type your password and press enter:\")\n",
    "\n",
    "# message = Subject kısmında konu yazılacak, this message ..... bölümü silinip yazılacaklar eklenecek\n",
    "message = \"\"\"\\\n",
    "Subject: Hi there\n",
    "\n",
    "This message is sent from Python.\"\"\"\n",
    "\n",
    "# bu kısım mail foksiyonların çalıştırıldığı kısım\n",
    "context = ssl.create_default_context()\n",
    "with smtplib.SMTP(smtp_server, port) as server:\n",
    "    server.ehlo()\n",
    "    server.starttls(context=context)\n",
    "    server.ehlo()\n",
    "    server.login(sender_email, password)\n",
    "    server.sendmail(sender_email, receiver_email, message)"
   ]
  },
  {
   "cell_type": "code",
   "execution_count": null,
   "id": "d079fb3d",
   "metadata": {},
   "outputs": [],
   "source": []
  }
 ],
 "metadata": {
  "kernelspec": {
   "display_name": "Python 3 (ipykernel)",
   "language": "python",
   "name": "python3"
  },
  "language_info": {
   "codemirror_mode": {
    "name": "ipython",
    "version": 3
   },
   "file_extension": ".py",
   "mimetype": "text/x-python",
   "name": "python",
   "nbconvert_exporter": "python",
   "pygments_lexer": "ipython3",
   "version": "3.9.7"
  }
 },
 "nbformat": 4,
 "nbformat_minor": 5
}
